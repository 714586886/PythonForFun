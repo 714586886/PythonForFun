{
 "cells": [
  {
   "cell_type": "markdown",
   "metadata": {},
   "source": [
    "## Define a Unix-like tail command using Python\n",
    "\n",
    "**_Usage_: python tail.py [OPTION] [FILE]**\n",
    "\n",
    "Print the last 10 lines of each FILE to standard output.  \n",
    "With more than one FILE, precede each with a header giving the file name.\n",
    "\n",
    "**_Mandatory arguments to long options are mandatory for short options too:_**  \n",
    "-h, --help    display this help and exit  \n",
    "-n, --lines=K    output the last K lines, instead of the last 10; or use **-n +K** to output starting with the Kth line\n",
    "\n",
    "**_Note_**: when executed in Unix-like system, users can run as the unix command style:\n",
    "\n",
    "  ```\n",
    "  $ mv tail.py tail\n",
    "  $ chmod +x tail\n",
    "  $ ./tail [OPTION] [FILE]\n",
    "  ```"
   ]
  },
  {
   "cell_type": "markdown",
   "metadata": {},
   "source": [
    "### demo 1: run with -h | --help option"
   ]
  },
  {
   "cell_type": "code",
   "execution_count": 1,
   "metadata": {
    "collapsed": false
   },
   "outputs": [
    {
     "name": "stdout",
     "output_type": "stream",
     "text": [
      "\n",
      "Define a Unix-like tail command.\n",
      "\n",
      "Usage: python tail.py [OPTION] <FILE>\n",
      "Print the last 10 lines of each FILE to standard output.\n",
      "With more than one FILE, precede each with a header giving the file name.\n",
      "\n",
      "Mandatory arguments to long options are mandatory for short options too.\n",
      "-h, --help    display this help and exit\n",
      "-n, --lines=K    output the last K lines, instead of the last 10;\n",
      "                or use -n +K to output starting with the Kth line\n",
      "\n",
      "-----------------------------------\n",
      "Created on Mon Jan 25\n",
      "@author: mangwang\n",
      "-----------------------------------\n",
      "\n"
     ]
    }
   ],
   "source": [
    "%run tail.py -h"
   ]
  },
  {
   "cell_type": "code",
   "execution_count": 2,
   "metadata": {
    "collapsed": false
   },
   "outputs": [
    {
     "name": "stdout",
     "output_type": "stream",
     "text": [
      "\n",
      "Define a Unix-like tail command.\n",
      "\n",
      "Usage: python tail.py [OPTION] <FILE>\n",
      "Print the last 10 lines of each FILE to standard output.\n",
      "With more than one FILE, precede each with a header giving the file name.\n",
      "\n",
      "Mandatory arguments to long options are mandatory for short options too.\n",
      "-h, --help    display this help and exit\n",
      "-n, --lines=K    output the last K lines, instead of the last 10;\n",
      "                or use -n +K to output starting with the Kth line\n",
      "\n",
      "-----------------------------------\n",
      "Created on Mon Jan 25\n",
      "@author: mangwang\n",
      "-----------------------------------\n",
      "\n"
     ]
    }
   ],
   "source": [
    "%run tail.py --help"
   ]
  },
  {
   "cell_type": "markdown",
   "metadata": {},
   "source": [
    "### demo 2: run with no options"
   ]
  },
  {
   "cell_type": "code",
   "execution_count": 3,
   "metadata": {
    "collapsed": false
   },
   "outputs": [
    {
     "name": "stdout",
     "output_type": "stream",
     "text": [
      "\"When sorrows come, they come not single spies, but in battalions\". - (Act IV, Scene V).\n",
      "As You Like It\n",
      "\"All the world 's a stage, and all the men and women merely players. They have their exits and their entrances; And one man in his time plays many parts\" - (Act II, Scene VII).\n",
      "\"Can one desire too much of a good thing?\". - (Act IV, Scene I).\n",
      "\"I like this place and willingly could waste my time in it\" - (Act II, Scene IV).\n",
      "\"How bitter a thing it is to look into happiness through another man's eyes!\" - (Act V, Scene II).\n",
      "\"Blow, blow, thou winter wind! Thou art not so unkind as man's ingratitude\".(Act II, Scene VII).\n",
      "\"True is it that we have seen better days\". - (Act II, Scene VII).\n",
      "\"For ever and a day\". - (Act IV, Scene I).\n",
      "\"The fool doth think he is wise, but the wise man knows himself to be a fool\". - (Act V, Scene I)."
     ]
    }
   ],
   "source": [
    "%run tail.py shakespeare.txt"
   ]
  },
  {
   "cell_type": "markdown",
   "metadata": {},
   "source": [
    "### demo 3: run with -n | --lines K options"
   ]
  },
  {
   "cell_type": "code",
   "execution_count": 4,
   "metadata": {
    "collapsed": false
   },
   "outputs": [
    {
     "name": "stdout",
     "output_type": "stream",
     "text": [
      "\"How bitter a thing it is to look into happiness through another man's eyes!\" - (Act V, Scene II).\n",
      "\"Blow, blow, thou winter wind! Thou art not so unkind as man's ingratitude\".(Act II, Scene VII).\n",
      "\"True is it that we have seen better days\". - (Act II, Scene VII).\n",
      "\"For ever and a day\". - (Act IV, Scene I).\n",
      "\"The fool doth think he is wise, but the wise man knows himself to be a fool\". - (Act V, Scene I)."
     ]
    }
   ],
   "source": [
    "%run tail.py -n 5 shakespeare.txt"
   ]
  },
  {
   "cell_type": "code",
   "execution_count": 5,
   "metadata": {
    "collapsed": false
   },
   "outputs": [
    {
     "name": "stdout",
     "output_type": "stream",
     "text": [
      "\"How bitter a thing it is to look into happiness through another man's eyes!\" - (Act V, Scene II).\n",
      "\"Blow, blow, thou winter wind! Thou art not so unkind as man's ingratitude\".(Act II, Scene VII).\n",
      "\"True is it that we have seen better days\". - (Act II, Scene VII).\n",
      "\"For ever and a day\". - (Act IV, Scene I).\n",
      "\"The fool doth think he is wise, but the wise man knows himself to be a fool\". - (Act V, Scene I)."
     ]
    }
   ],
   "source": [
    "%run tail.py --lines 5 shakespeare.txt"
   ]
  },
  {
   "cell_type": "markdown",
   "metadata": {},
   "source": [
    "### demo 4: run with -n | --lines +K options"
   ]
  },
  {
   "cell_type": "code",
   "execution_count": 6,
   "metadata": {
    "collapsed": false
   },
   "outputs": [
    {
     "name": "stdout",
     "output_type": "stream",
     "text": [
      "As You Like It\n",
      "\"All the world 's a stage, and all the men and women merely players. They have their exits and their entrances; And one man in his time plays many parts\" - (Act II, Scene VII).\n",
      "\"Can one desire too much of a good thing?\". - (Act IV, Scene I).\n",
      "\"I like this place and willingly could waste my time in it\" - (Act II, Scene IV).\n",
      "\"How bitter a thing it is to look into happiness through another man's eyes!\" - (Act V, Scene II).\n",
      "\"Blow, blow, thou winter wind! Thou art not so unkind as man's ingratitude\".(Act II, Scene VII).\n",
      "\"True is it that we have seen better days\". - (Act II, Scene VII).\n",
      "\"For ever and a day\". - (Act IV, Scene I).\n",
      "\"The fool doth think he is wise, but the wise man knows himself to be a fool\". - (Act V, Scene I)."
     ]
    }
   ],
   "source": [
    "%run tail.py -n +20 shakespeare.txt"
   ]
  },
  {
   "cell_type": "code",
   "execution_count": 7,
   "metadata": {
    "collapsed": false
   },
   "outputs": [
    {
     "name": "stdout",
     "output_type": "stream",
     "text": [
      "As You Like It\n",
      "\"All the world 's a stage, and all the men and women merely players. They have their exits and their entrances; And one man in his time plays many parts\" - (Act II, Scene VII).\n",
      "\"Can one desire too much of a good thing?\". - (Act IV, Scene I).\n",
      "\"I like this place and willingly could waste my time in it\" - (Act II, Scene IV).\n",
      "\"How bitter a thing it is to look into happiness through another man's eyes!\" - (Act V, Scene II).\n",
      "\"Blow, blow, thou winter wind! Thou art not so unkind as man's ingratitude\".(Act II, Scene VII).\n",
      "\"True is it that we have seen better days\". - (Act II, Scene VII).\n",
      "\"For ever and a day\". - (Act IV, Scene I).\n",
      "\"The fool doth think he is wise, but the wise man knows himself to be a fool\". - (Act V, Scene I)."
     ]
    }
   ],
   "source": [
    "%run tail.py --lines +20 shakespeare.txt"
   ]
  },
  {
   "cell_type": "markdown",
   "metadata": {},
   "source": [
    "### demo 5: run multiple files"
   ]
  },
  {
   "cell_type": "code",
   "execution_count": 8,
   "metadata": {
    "collapsed": false
   },
   "outputs": [
    {
     "name": "stdout",
     "output_type": "stream",
     "text": [
      "==> shakespeare.txt <==\n",
      "\"When sorrows come, they come not single spies, but in battalions\". - (Act IV, Scene V).\n",
      "As You Like It\n",
      "\"All the world 's a stage, and all the men and women merely players. They have their exits and their entrances; And one man in his time plays many parts\" - (Act II, Scene VII).\n",
      "\"Can one desire too much of a good thing?\". - (Act IV, Scene I).\n",
      "\"I like this place and willingly could waste my time in it\" - (Act II, Scene IV).\n",
      "\"How bitter a thing it is to look into happiness through another man's eyes!\" - (Act V, Scene II).\n",
      "\"Blow, blow, thou winter wind! Thou art not so unkind as man's ingratitude\".(Act II, Scene VII).\n",
      "\"True is it that we have seen better days\". - (Act II, Scene VII).\n",
      "\"For ever and a day\". - (Act IV, Scene I).\n",
      "\"The fool doth think he is wise, but the wise man knows himself to be a fool\". - (Act V, Scene I).\n",
      "==> she.txt <==\n",
      "Errors should never pass silently.\n",
      "Unless explicitly silenced.\n",
      "In the face of ambiguity, refuse the temptation to guess.\n",
      "There should be one-- and preferably only one --obvious way to do it.\n",
      "Although that way may not be obvious at first unless you're Dutch.\n",
      "Now is better than never.\n",
      "Although never is often better than *right* now.\n",
      "If the implementation is hard to explain, it's a bad idea.\n",
      "If the implementation is easy to explain, it may be a good idea.\n",
      "Namespaces are one honking great idea -- let's do more of those!\n"
     ]
    }
   ],
   "source": [
    "%run tail.py shakespeare.txt she.txt"
   ]
  }
 ],
 "metadata": {
  "kernelspec": {
   "display_name": "Python 2",
   "language": "python",
   "name": "python2"
  },
  "language_info": {
   "codemirror_mode": {
    "name": "ipython",
    "version": 2
   },
   "file_extension": ".py",
   "mimetype": "text/x-python",
   "name": "python",
   "nbconvert_exporter": "python",
   "pygments_lexer": "ipython2",
   "version": "2.7.11"
  }
 },
 "nbformat": 4,
 "nbformat_minor": 0
}
